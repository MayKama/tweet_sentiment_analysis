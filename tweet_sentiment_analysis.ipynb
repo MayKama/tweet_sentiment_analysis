{
 "cells": [
  {
   "cell_type": "markdown",
   "metadata": {},
   "source": [
    "# Basic Sentiment Analysis Using the TextBlob Library"
   ]
  },
  {
   "cell_type": "markdown",
   "metadata": {},
   "source": [
    "## Tweet Sentiment Analysis Using the TextBlob library\n",
    "\n",
    "### Steps:\n",
    "1. Import the necessary libraries.\n",
    "2. Load the CSV file.\n",
    "3. Fetch the text column from the DataFrame.\n",
    "4. Extract and remove the handles from the fetched data.\n",
    "5. Perform sentiment analysis and get the new DataFrame.\n",
    "6. Join both the DataFrames.\n",
    "7. Apply appropriate conditions and view positive, negative, and neutral tweet"
   ]
  },
  {
   "cell_type": "markdown",
   "metadata": {},
   "source": [
    "#importing the necessary libraries \n"
   ]
  },
  {
   "cell_type": "code",
   "execution_count": 1,
   "metadata": {},
   "outputs": [],
   "source": [
    "import warnings\n",
    "warnings.filterwarnings('ignore')\n",
    "import pandas as pd\n",
    "import numpy as np\n",
    "\n",
    "from textblob import TextBlob # makes NLP easy\n",
    "\n"
   ]
  },
  {
   "cell_type": "code",
   "execution_count": 2,
   "metadata": {},
   "outputs": [],
   "source": [
    "sentence=\"but you are Late Flight again!! Again and again! Where are the crew?\" \n",
    "blob =TextBlob(sentence)"
   ]
  },
  {
   "cell_type": "code",
   "execution_count": 3,
   "metadata": {},
   "outputs": [
    {
     "data": {
      "text/plain": [
       "TextBlob(\"but you are Late Flight again!! Again and again! Where are the crew?\")"
      ]
     },
     "execution_count": 3,
     "metadata": {},
     "output_type": "execute_result"
    }
   ],
   "source": [
    "blob"
   ]
  },
  {
   "cell_type": "code",
   "execution_count": 4,
   "metadata": {},
   "outputs": [
    {
     "data": {
      "text/plain": [
       "Sentiment(polarity=-0.5859375, subjectivity=0.6)"
      ]
     },
     "execution_count": 4,
     "metadata": {},
     "output_type": "execute_result"
    }
   ],
   "source": [
    "blob.sentiment # testing the sentiment of the sentence"
   ]
  },
  {
   "cell_type": "code",
   "execution_count": 5,
   "metadata": {},
   "outputs": [],
   "source": [
    "import re # importing regular expression"
   ]
  },
  {
   "cell_type": "code",
   "execution_count": 6,
   "metadata": {},
   "outputs": [],
   "source": [
    "pd.set_option(\"display.max_colwidth\", 240)"
   ]
  },
  {
   "cell_type": "code",
   "execution_count": 7,
   "metadata": {},
   "outputs": [],
   "source": [
    "tweets_data = pd.read_csv(\"tweets.csv\")"
   ]
  },
  {
   "cell_type": "code",
   "execution_count": 8,
   "metadata": {},
   "outputs": [],
   "source": [
    "#tweets_data.head(3)"
   ]
  },
  {
   "cell_type": "code",
   "execution_count": 9,
   "metadata": {},
   "outputs": [
    {
     "data": {
      "text/html": [
       "<div>\n",
       "<style scoped>\n",
       "    .dataframe tbody tr th:only-of-type {\n",
       "        vertical-align: middle;\n",
       "    }\n",
       "\n",
       "    .dataframe tbody tr th {\n",
       "        vertical-align: top;\n",
       "    }\n",
       "\n",
       "    .dataframe thead th {\n",
       "        text-align: right;\n",
       "    }\n",
       "</style>\n",
       "<table border=\"1\" class=\"dataframe\">\n",
       "  <thead>\n",
       "    <tr style=\"text-align: right;\">\n",
       "      <th></th>\n",
       "      <th>text</th>\n",
       "    </tr>\n",
       "  </thead>\n",
       "  <tbody>\n",
       "    <tr>\n",
       "      <th>0</th>\n",
       "      <td>@VirginAmerica What @dhepburn said.</td>\n",
       "    </tr>\n",
       "    <tr>\n",
       "      <th>1</th>\n",
       "      <td>@VirginAmerica plus you've added commercials to the experience... tacky.</td>\n",
       "    </tr>\n",
       "    <tr>\n",
       "      <th>2</th>\n",
       "      <td>@VirginAmerica I didn't today... Must mean I need to take another trip!</td>\n",
       "    </tr>\n",
       "    <tr>\n",
       "      <th>3</th>\n",
       "      <td>@VirginAmerica it's really aggressive to blast obnoxious \"entertainment\" in your guests' faces &amp;amp; they have little recourse</td>\n",
       "    </tr>\n",
       "    <tr>\n",
       "      <th>4</th>\n",
       "      <td>@VirginAmerica and it's a really big bad thing about it</td>\n",
       "    </tr>\n",
       "    <tr>\n",
       "      <th>...</th>\n",
       "      <td>...</td>\n",
       "    </tr>\n",
       "    <tr>\n",
       "      <th>14635</th>\n",
       "      <td>@AmericanAir thank you we got on a different flight to Chicago.</td>\n",
       "    </tr>\n",
       "    <tr>\n",
       "      <th>14636</th>\n",
       "      <td>@AmericanAir leaving over 20 minutes Late Flight. No warnings or communication until we were 15 minutes Late Flight. That's called shitty customer svc</td>\n",
       "    </tr>\n",
       "    <tr>\n",
       "      <th>14637</th>\n",
       "      <td>@AmericanAir Please bring American Airlines to #BlackBerry10</td>\n",
       "    </tr>\n",
       "    <tr>\n",
       "      <th>14638</th>\n",
       "      <td>@AmericanAir you have my money, you change my flight, and don't answer your phones! Any other suggestions so I can make my commitment??</td>\n",
       "    </tr>\n",
       "    <tr>\n",
       "      <th>14639</th>\n",
       "      <td>@AmericanAir we have 8 ppl so we need 2 know how many seats are on the next flight. Plz put us on standby for 4 people on the next flight?</td>\n",
       "    </tr>\n",
       "  </tbody>\n",
       "</table>\n",
       "<p>14640 rows × 1 columns</p>\n",
       "</div>"
      ],
      "text/plain": [
       "                                                                                                                                                         text\n",
       "0                                                                                                                         @VirginAmerica What @dhepburn said.\n",
       "1                                                                                    @VirginAmerica plus you've added commercials to the experience... tacky.\n",
       "2                                                                                     @VirginAmerica I didn't today... Must mean I need to take another trip!\n",
       "3                              @VirginAmerica it's really aggressive to blast obnoxious \"entertainment\" in your guests' faces &amp; they have little recourse\n",
       "4                                                                                                     @VirginAmerica and it's a really big bad thing about it\n",
       "...                                                                                                                                                       ...\n",
       "14635                                                                                         @AmericanAir thank you we got on a different flight to Chicago.\n",
       "14636  @AmericanAir leaving over 20 minutes Late Flight. No warnings or communication until we were 15 minutes Late Flight. That's called shitty customer svc\n",
       "14637                                                                                            @AmericanAir Please bring American Airlines to #BlackBerry10\n",
       "14638                 @AmericanAir you have my money, you change my flight, and don't answer your phones! Any other suggestions so I can make my commitment??\n",
       "14639              @AmericanAir we have 8 ppl so we need 2 know how many seats are on the next flight. Plz put us on standby for 4 people on the next flight?\n",
       "\n",
       "[14640 rows x 1 columns]"
      ]
     },
     "execution_count": 9,
     "metadata": {},
     "output_type": "execute_result"
    }
   ],
   "source": [
    "#reading the data set and accessing only the text columns\n",
    "tweets_data= pd.read_csv('tweets.csv', usecols=['text']) #https://www.kaggle.com/datasets/crowdflower/twitter-airline-sentiment\n",
    "\n",
    "tweets_data\n"
   ]
  },
  {
   "cell_type": "code",
   "execution_count": 10,
   "metadata": {},
   "outputs": [
    {
     "data": {
      "text/html": [
       "<div>\n",
       "<style scoped>\n",
       "    .dataframe tbody tr th:only-of-type {\n",
       "        vertical-align: middle;\n",
       "    }\n",
       "\n",
       "    .dataframe tbody tr th {\n",
       "        vertical-align: top;\n",
       "    }\n",
       "\n",
       "    .dataframe thead th {\n",
       "        text-align: right;\n",
       "    }\n",
       "</style>\n",
       "<table border=\"1\" class=\"dataframe\">\n",
       "  <thead>\n",
       "    <tr style=\"text-align: right;\">\n",
       "      <th></th>\n",
       "      <th>Tweet</th>\n",
       "    </tr>\n",
       "  </thead>\n",
       "  <tbody>\n",
       "    <tr>\n",
       "      <th>0</th>\n",
       "      <td>@VirginAmerica What @dhepburn said.</td>\n",
       "    </tr>\n",
       "    <tr>\n",
       "      <th>1</th>\n",
       "      <td>@VirginAmerica plus you've added commercials to the experience... tacky.</td>\n",
       "    </tr>\n",
       "    <tr>\n",
       "      <th>2</th>\n",
       "      <td>@VirginAmerica I didn't today... Must mean I need to take another trip!</td>\n",
       "    </tr>\n",
       "    <tr>\n",
       "      <th>3</th>\n",
       "      <td>@VirginAmerica it's really aggressive to blast obnoxious \"entertainment\" in your guests' faces &amp;amp; they have little recourse</td>\n",
       "    </tr>\n",
       "    <tr>\n",
       "      <th>4</th>\n",
       "      <td>@VirginAmerica and it's a really big bad thing about it</td>\n",
       "    </tr>\n",
       "    <tr>\n",
       "      <th>...</th>\n",
       "      <td>...</td>\n",
       "    </tr>\n",
       "    <tr>\n",
       "      <th>14635</th>\n",
       "      <td>@AmericanAir thank you we got on a different flight to Chicago.</td>\n",
       "    </tr>\n",
       "    <tr>\n",
       "      <th>14636</th>\n",
       "      <td>@AmericanAir leaving over 20 minutes Late Flight. No warnings or communication until we were 15 minutes Late Flight. That's called shitty customer svc</td>\n",
       "    </tr>\n",
       "    <tr>\n",
       "      <th>14637</th>\n",
       "      <td>@AmericanAir Please bring American Airlines to #BlackBerry10</td>\n",
       "    </tr>\n",
       "    <tr>\n",
       "      <th>14638</th>\n",
       "      <td>@AmericanAir you have my money, you change my flight, and don't answer your phones! Any other suggestions so I can make my commitment??</td>\n",
       "    </tr>\n",
       "    <tr>\n",
       "      <th>14639</th>\n",
       "      <td>@AmericanAir we have 8 ppl so we need 2 know how many seats are on the next flight. Plz put us on standby for 4 people on the next flight?</td>\n",
       "    </tr>\n",
       "  </tbody>\n",
       "</table>\n",
       "<p>14640 rows × 1 columns</p>\n",
       "</div>"
      ],
      "text/plain": [
       "                                                                                                                                                        Tweet\n",
       "0                                                                                                                         @VirginAmerica What @dhepburn said.\n",
       "1                                                                                    @VirginAmerica plus you've added commercials to the experience... tacky.\n",
       "2                                                                                     @VirginAmerica I didn't today... Must mean I need to take another trip!\n",
       "3                              @VirginAmerica it's really aggressive to blast obnoxious \"entertainment\" in your guests' faces &amp; they have little recourse\n",
       "4                                                                                                     @VirginAmerica and it's a really big bad thing about it\n",
       "...                                                                                                                                                       ...\n",
       "14635                                                                                         @AmericanAir thank you we got on a different flight to Chicago.\n",
       "14636  @AmericanAir leaving over 20 minutes Late Flight. No warnings or communication until we were 15 minutes Late Flight. That's called shitty customer svc\n",
       "14637                                                                                            @AmericanAir Please bring American Airlines to #BlackBerry10\n",
       "14638                 @AmericanAir you have my money, you change my flight, and don't answer your phones! Any other suggestions so I can make my commitment??\n",
       "14639              @AmericanAir we have 8 ppl so we need 2 know how many seats are on the next flight. Plz put us on standby for 4 people on the next flight?\n",
       "\n",
       "[14640 rows x 1 columns]"
      ]
     },
     "execution_count": 10,
     "metadata": {},
     "output_type": "execute_result"
    }
   ],
   "source": [
    "#reassigning a name to the text column \n",
    "tweets_data.columns=[\"Tweet\"]\n",
    "tweets_data"
   ]
  },
  {
   "cell_type": "code",
   "execution_count": 11,
   "metadata": {},
   "outputs": [
    {
     "data": {
      "text/plain": [
       "(14640, 1)"
      ]
     },
     "execution_count": 11,
     "metadata": {},
     "output_type": "execute_result"
    }
   ],
   "source": [
    "tweets_data.shape"
   ]
  },
  {
   "cell_type": "markdown",
   "metadata": {},
   "source": [
    "#using \"tweet.shape\" above, this shows only one column has text tweet and it contains 14640 rows"
   ]
  },
  {
   "cell_type": "code",
   "execution_count": 12,
   "metadata": {},
   "outputs": [
    {
     "data": {
      "text/plain": [
       "Tweet    False\n",
       "dtype: bool"
      ]
     },
     "execution_count": 12,
     "metadata": {},
     "output_type": "execute_result"
    }
   ],
   "source": [
    "# checking for null values in the rows\n",
    "tweets_data.isnull().any()"
   ]
  },
  {
   "cell_type": "code",
   "execution_count": 13,
   "metadata": {
    "scrolled": true
   },
   "outputs": [],
   "source": [
    "# Use extract() function to extract the @ handle (uses a regex to get parts of a string)\n",
    "\n",
    "tweets_data['handle'] = tweets_data.Tweet.str.extract(r'^(@\\S+)')\n",
    "\n",
    "def remove_handles(Tweet):\n",
    "  return re.sub(r'@\\S+', '', Tweet)"
   ]
  },
  {
   "cell_type": "code",
   "execution_count": 14,
   "metadata": {},
   "outputs": [],
   "source": [
    "# apply remove handles function and create new tweet_text column\n",
    "tweets_data['tweet_text'] = tweets_data.Tweet.apply(remove_handles)"
   ]
  },
  {
   "cell_type": "code",
   "execution_count": 15,
   "metadata": {
    "scrolled": true
   },
   "outputs": [
    {
     "data": {
      "text/html": [
       "<div>\n",
       "<style scoped>\n",
       "    .dataframe tbody tr th:only-of-type {\n",
       "        vertical-align: middle;\n",
       "    }\n",
       "\n",
       "    .dataframe tbody tr th {\n",
       "        vertical-align: top;\n",
       "    }\n",
       "\n",
       "    .dataframe thead th {\n",
       "        text-align: right;\n",
       "    }\n",
       "</style>\n",
       "<table border=\"1\" class=\"dataframe\">\n",
       "  <thead>\n",
       "    <tr style=\"text-align: right;\">\n",
       "      <th></th>\n",
       "      <th>Tweet</th>\n",
       "      <th>handle</th>\n",
       "      <th>tweet_text</th>\n",
       "    </tr>\n",
       "  </thead>\n",
       "  <tbody>\n",
       "    <tr>\n",
       "      <th>0</th>\n",
       "      <td>@VirginAmerica What @dhepburn said.</td>\n",
       "      <td>@VirginAmerica</td>\n",
       "      <td>What  said.</td>\n",
       "    </tr>\n",
       "    <tr>\n",
       "      <th>1</th>\n",
       "      <td>@VirginAmerica plus you've added commercials to the experience... tacky.</td>\n",
       "      <td>@VirginAmerica</td>\n",
       "      <td>plus you've added commercials to the experience... tacky.</td>\n",
       "    </tr>\n",
       "    <tr>\n",
       "      <th>2</th>\n",
       "      <td>@VirginAmerica I didn't today... Must mean I need to take another trip!</td>\n",
       "      <td>@VirginAmerica</td>\n",
       "      <td>I didn't today... Must mean I need to take another trip!</td>\n",
       "    </tr>\n",
       "    <tr>\n",
       "      <th>3</th>\n",
       "      <td>@VirginAmerica it's really aggressive to blast obnoxious \"entertainment\" in your guests' faces &amp;amp; they have little recourse</td>\n",
       "      <td>@VirginAmerica</td>\n",
       "      <td>it's really aggressive to blast obnoxious \"entertainment\" in your guests' faces &amp;amp; they have little recourse</td>\n",
       "    </tr>\n",
       "    <tr>\n",
       "      <th>4</th>\n",
       "      <td>@VirginAmerica and it's a really big bad thing about it</td>\n",
       "      <td>@VirginAmerica</td>\n",
       "      <td>and it's a really big bad thing about it</td>\n",
       "    </tr>\n",
       "    <tr>\n",
       "      <th>5</th>\n",
       "      <td>@VirginAmerica seriously would pay $30 a flight for seats that didn't have this playing.\\nit's really the only bad thing about flying VA</td>\n",
       "      <td>@VirginAmerica</td>\n",
       "      <td>seriously would pay $30 a flight for seats that didn't have this playing.\\nit's really the only bad thing about flying VA</td>\n",
       "    </tr>\n",
       "    <tr>\n",
       "      <th>6</th>\n",
       "      <td>@VirginAmerica yes, nearly every time I fly VX this “ear worm” won’t go away :)</td>\n",
       "      <td>@VirginAmerica</td>\n",
       "      <td>yes, nearly every time I fly VX this “ear worm” won’t go away :)</td>\n",
       "    </tr>\n",
       "    <tr>\n",
       "      <th>7</th>\n",
       "      <td>@VirginAmerica Really missed a prime opportunity for Men Without Hats parody, there. https://t.co/mWpG7grEZP</td>\n",
       "      <td>@VirginAmerica</td>\n",
       "      <td>Really missed a prime opportunity for Men Without Hats parody, there. https://t.co/mWpG7grEZP</td>\n",
       "    </tr>\n",
       "    <tr>\n",
       "      <th>8</th>\n",
       "      <td>@virginamerica Well, I didn't…but NOW I DO! :-D</td>\n",
       "      <td>@virginamerica</td>\n",
       "      <td>Well, I didn't…but NOW I DO! :-D</td>\n",
       "    </tr>\n",
       "    <tr>\n",
       "      <th>9</th>\n",
       "      <td>@VirginAmerica it was amazing, and arrived an hour early. You're too good to me.</td>\n",
       "      <td>@VirginAmerica</td>\n",
       "      <td>it was amazing, and arrived an hour early. You're too good to me.</td>\n",
       "    </tr>\n",
       "  </tbody>\n",
       "</table>\n",
       "</div>"
      ],
      "text/plain": [
       "                                                                                                                                      Tweet  \\\n",
       "0                                                                                                       @VirginAmerica What @dhepburn said.   \n",
       "1                                                                  @VirginAmerica plus you've added commercials to the experience... tacky.   \n",
       "2                                                                   @VirginAmerica I didn't today... Must mean I need to take another trip!   \n",
       "3            @VirginAmerica it's really aggressive to blast obnoxious \"entertainment\" in your guests' faces &amp; they have little recourse   \n",
       "4                                                                                   @VirginAmerica and it's a really big bad thing about it   \n",
       "5  @VirginAmerica seriously would pay $30 a flight for seats that didn't have this playing.\\nit's really the only bad thing about flying VA   \n",
       "6                                                           @VirginAmerica yes, nearly every time I fly VX this “ear worm” won’t go away :)   \n",
       "7                              @VirginAmerica Really missed a prime opportunity for Men Without Hats parody, there. https://t.co/mWpG7grEZP   \n",
       "8                                                                                           @virginamerica Well, I didn't…but NOW I DO! :-D   \n",
       "9                                                          @VirginAmerica it was amazing, and arrived an hour early. You're too good to me.   \n",
       "\n",
       "           handle  \\\n",
       "0  @VirginAmerica   \n",
       "1  @VirginAmerica   \n",
       "2  @VirginAmerica   \n",
       "3  @VirginAmerica   \n",
       "4  @VirginAmerica   \n",
       "5  @VirginAmerica   \n",
       "6  @VirginAmerica   \n",
       "7  @VirginAmerica   \n",
       "8  @virginamerica   \n",
       "9  @VirginAmerica   \n",
       "\n",
       "                                                                                                                   tweet_text  \n",
       "0                                                                                                                 What  said.  \n",
       "1                                                                   plus you've added commercials to the experience... tacky.  \n",
       "2                                                                    I didn't today... Must mean I need to take another trip!  \n",
       "3             it's really aggressive to blast obnoxious \"entertainment\" in your guests' faces &amp; they have little recourse  \n",
       "4                                                                                    and it's a really big bad thing about it  \n",
       "5   seriously would pay $30 a flight for seats that didn't have this playing.\\nit's really the only bad thing about flying VA  \n",
       "6                                                            yes, nearly every time I fly VX this “ear worm” won’t go away :)  \n",
       "7                               Really missed a prime opportunity for Men Without Hats parody, there. https://t.co/mWpG7grEZP  \n",
       "8                                                                                            Well, I didn't…but NOW I DO! :-D  \n",
       "9                                                           it was amazing, and arrived an hour early. You're too good to me.  "
      ]
     },
     "execution_count": 15,
     "metadata": {},
     "output_type": "execute_result"
    }
   ],
   "source": [
    "tweets_data.head(10)"
   ]
  },
  {
   "cell_type": "markdown",
   "metadata": {},
   "source": [
    "# comment!!!\n",
    "#in line 15, 16 and 18 above,we created a function and pass a Tweet parameter to it. \n",
    "#This extracted the special xters (@) from the strings values and as well seperated the text from the handle line 16.\n",
    "#This resulted to creating another column called tweet_text column that hold the text in line 16\n",
    "#from the line 18, you will be able to see clearly and understand the speeches/ texts written by tweeters\n",
    "#and you can see the tweeter handles that made the tweets"
   ]
  },
  {
   "cell_type": "code",
   "execution_count": 16,
   "metadata": {},
   "outputs": [
    {
     "data": {
      "text/plain": [
       "0                                                                                                                   What  said.\n",
       "1                                                                     plus you've added commercials to the experience... tacky.\n",
       "2                                                                      I didn't today... Must mean I need to take another trip!\n",
       "3               it's really aggressive to blast obnoxious \"entertainment\" in your guests' faces &amp; they have little recourse\n",
       "4                                                                                      and it's a really big bad thing about it\n",
       "5     seriously would pay $30 a flight for seats that didn't have this playing.\\nit's really the only bad thing about flying VA\n",
       "6                                                              yes, nearly every time I fly VX this “ear worm” won’t go away :)\n",
       "7                                 Really missed a prime opportunity for Men Without Hats parody, there. https://t.co/mWpG7grEZP\n",
       "8                                                                                              Well, I didn't…but NOW I DO! :-D\n",
       "9                                                             it was amazing, and arrived an hour early. You're too good to me.\n",
       "Name: tweet_text, dtype: object"
      ]
     },
     "execution_count": 16,
     "metadata": {},
     "output_type": "execute_result"
    }
   ],
   "source": [
    "#displaying/ accessing the text\n",
    "tweets_data['tweet_text'].head(10)"
   ]
  },
  {
   "cell_type": "code",
   "execution_count": 17,
   "metadata": {},
   "outputs": [],
   "source": [
    "# create a get_sentiment() function\n",
    "# accepts a DataFrame and a column as parameters\n",
    "# this checks if the tweet expresses positive or negative opinion\n",
    "def get_sentiment(dataframe, column):\n",
    "  text_column = dataframe[column] \n",
    "  #apply TextBlob constructor to each value of text_column\n",
    "  textblob_sentiment = text_column.apply(TextBlob)\n",
    "  # extracts and creates a new DataFrame for Polarity and subjectivity columns\n",
    "  sentiment_values = [ {'Polarity': v.sentiment.polarity,'Subjectivity': v.sentiment.subjectivity}\n",
    "                      for v in textblob_sentiment.values]\n",
    "  return pd.DataFrame(sentiment_values)"
   ]
  },
  {
   "cell_type": "code",
   "execution_count": 18,
   "metadata": {},
   "outputs": [
    {
     "data": {
      "text/html": [
       "<div>\n",
       "<style scoped>\n",
       "    .dataframe tbody tr th:only-of-type {\n",
       "        vertical-align: middle;\n",
       "    }\n",
       "\n",
       "    .dataframe tbody tr th {\n",
       "        vertical-align: top;\n",
       "    }\n",
       "\n",
       "    .dataframe thead th {\n",
       "        text-align: right;\n",
       "    }\n",
       "</style>\n",
       "<table border=\"1\" class=\"dataframe\">\n",
       "  <thead>\n",
       "    <tr style=\"text-align: right;\">\n",
       "      <th></th>\n",
       "      <th>Polarity</th>\n",
       "      <th>Subjectivity</th>\n",
       "    </tr>\n",
       "  </thead>\n",
       "  <tbody>\n",
       "    <tr>\n",
       "      <th>0</th>\n",
       "      <td>0.000000</td>\n",
       "      <td>0.000000</td>\n",
       "    </tr>\n",
       "    <tr>\n",
       "      <th>1</th>\n",
       "      <td>0.000000</td>\n",
       "      <td>0.000000</td>\n",
       "    </tr>\n",
       "    <tr>\n",
       "      <th>2</th>\n",
       "      <td>-0.390625</td>\n",
       "      <td>0.687500</td>\n",
       "    </tr>\n",
       "    <tr>\n",
       "      <th>3</th>\n",
       "      <td>0.006250</td>\n",
       "      <td>0.350000</td>\n",
       "    </tr>\n",
       "    <tr>\n",
       "      <th>4</th>\n",
       "      <td>-0.350000</td>\n",
       "      <td>0.383333</td>\n",
       "    </tr>\n",
       "    <tr>\n",
       "      <th>...</th>\n",
       "      <td>...</td>\n",
       "      <td>...</td>\n",
       "    </tr>\n",
       "    <tr>\n",
       "      <th>14635</th>\n",
       "      <td>0.000000</td>\n",
       "      <td>0.600000</td>\n",
       "    </tr>\n",
       "    <tr>\n",
       "      <th>14636</th>\n",
       "      <td>-0.300000</td>\n",
       "      <td>0.600000</td>\n",
       "    </tr>\n",
       "    <tr>\n",
       "      <th>14637</th>\n",
       "      <td>0.000000</td>\n",
       "      <td>0.000000</td>\n",
       "    </tr>\n",
       "    <tr>\n",
       "      <th>14638</th>\n",
       "      <td>-0.125000</td>\n",
       "      <td>0.375000</td>\n",
       "    </tr>\n",
       "    <tr>\n",
       "      <th>14639</th>\n",
       "      <td>0.166667</td>\n",
       "      <td>0.166667</td>\n",
       "    </tr>\n",
       "  </tbody>\n",
       "</table>\n",
       "<p>14640 rows × 2 columns</p>\n",
       "</div>"
      ],
      "text/plain": [
       "       Polarity  Subjectivity\n",
       "0      0.000000      0.000000\n",
       "1      0.000000      0.000000\n",
       "2     -0.390625      0.687500\n",
       "3      0.006250      0.350000\n",
       "4     -0.350000      0.383333\n",
       "...         ...           ...\n",
       "14635  0.000000      0.600000\n",
       "14636 -0.300000      0.600000\n",
       "14637  0.000000      0.000000\n",
       "14638 -0.125000      0.375000\n",
       "14639  0.166667      0.166667\n",
       "\n",
       "[14640 rows x 2 columns]"
      ]
     },
     "execution_count": 18,
     "metadata": {},
     "output_type": "execute_result"
    }
   ],
   "source": [
    "sentiment_frame = get_sentiment(tweets_data, 'tweet_text')\n",
    "sentiment_frame"
   ]
  },
  {
   "cell_type": "markdown",
   "metadata": {},
   "source": [
    "###**Data Visualization & Exploration**"
   ]
  },
  {
   "cell_type": "code",
   "execution_count": 19,
   "metadata": {},
   "outputs": [],
   "source": [
    "#importing the necessary libraries for visualization\n",
    "import numpy as np\n",
    "import matplotlib.pyplot as plt\n",
    "from matplotlib.figure import Figure\n",
    "import seaborn as sns\n",
    "\n",
    "%matplotlib inline\n"
   ]
  },
  {
   "cell_type": "code",
   "execution_count": 20,
   "metadata": {},
   "outputs": [
    {
     "data": {
      "image/png": "[encoded data removed]",
      "text/plain": [
       "<Figure size 432x432 with 1 Axes>"
      ]
     },
     "metadata": {
      "needs_background": "light"
     },
     "output_type": "display_data"
    }
   ],
   "source": [
    "font =12\n",
    "fig= plt.figure(figsize=(6,6))\n",
    "axx=fig.add_axes([0,0,1,1])\n",
    "axx.plot(sentiment_frame['Polarity'],'--r')\n",
    "axx.plot(sentiment_frame['Subjectivity'],'-ob')\n",
    "\n",
    "\n",
    "axx.legend(['Polarity', 'Subjectivity'],fontsize = font)\n",
    "axx.set_xlabel('Days', fontsize =font)\n",
    "axx.set_ylabel('Values', fontsize =font)\n",
    "axx.set_title('Sentence Classification', fontsize =font)\n",
    "#to save\n",
    "fig.savefig('sentence.png')\n",
    "plt.show()\n"
   ]
  },
  {
   "cell_type": "markdown",
   "metadata": {},
   "source": [
    "#from these visulization, it can be seen that there is more negative tweet than the positive.\n",
    "#That is the polarity is lower compare to subjectivity"
   ]
  },
  {
   "cell_type": "code",
   "execution_count": 21,
   "metadata": {},
   "outputs": [
    {
     "data": {
      "image/png": "[encoded data removed]",
      "text/plain": [
       "<Figure size 432x288 with 1 Axes>"
      ]
     },
     "metadata": {
      "needs_background": "light"
     },
     "output_type": "display_data"
    }
   ],
   "source": [
    "plt.scatter(sentiment_frame.Polarity,sentiment_frame.Subjectivity)\n",
    "plt.show()"
   ]
  },
  {
   "cell_type": "code",
   "execution_count": 22,
   "metadata": {},
   "outputs": [
    {
     "data": {
      "image/png": "[encoded data removed]",
      "text/plain": [
       "<Figure size 432x288 with 1 Axes>"
      ]
     },
     "metadata": {
      "needs_background": "light"
     },
     "output_type": "display_data"
    }
   ],
   "source": [
    "# checking with histogram \n",
    "\n",
    "sns.pointplot(x=\"Polarity\", y=\"Subjectivity\", data=sentiment_frame)\n",
    "plt.show()\n"
   ]
  },
  {
   "cell_type": "code",
   "execution_count": 23,
   "metadata": {},
   "outputs": [
    {
     "data": {
      "text/plain": [
       "<seaborn.axisgrid.PairGrid at 0x1fe8bbd8ec8>"
      ]
     },
     "execution_count": 23,
     "metadata": {},
     "output_type": "execute_result"
    },
    {
     "data": {
      "image/png": "[encoded data removed]",
      "text/plain": [
       "<Figure size 360x360 with 6 Axes>"
      ]
     },
     "metadata": {
      "needs_background": "light"
     },
     "output_type": "display_data"
    }
   ],
   "source": [
    "sns.pairplot( data=sentiment_frame)"
   ]
  },
  {
   "cell_type": "code",
   "execution_count": 24,
   "metadata": {},
   "outputs": [
    {
     "data": {
      "text/html": [
       "<div>\n",
       "<style scoped>\n",
       "    .dataframe tbody tr th:only-of-type {\n",
       "        vertical-align: middle;\n",
       "    }\n",
       "\n",
       "    .dataframe tbody tr th {\n",
       "        vertical-align: top;\n",
       "    }\n",
       "\n",
       "    .dataframe thead th {\n",
       "        text-align: right;\n",
       "    }\n",
       "</style>\n",
       "<table border=\"1\" class=\"dataframe\">\n",
       "  <thead>\n",
       "    <tr style=\"text-align: right;\">\n",
       "      <th></th>\n",
       "      <th>Tweet</th>\n",
       "      <th>handle</th>\n",
       "      <th>tweet_text</th>\n",
       "      <th>Polarity</th>\n",
       "      <th>Subjectivity</th>\n",
       "    </tr>\n",
       "  </thead>\n",
       "  <tbody>\n",
       "    <tr>\n",
       "      <th>0</th>\n",
       "      <td>@VirginAmerica What @dhepburn said.</td>\n",
       "      <td>@VirginAmerica</td>\n",
       "      <td>What  said.</td>\n",
       "      <td>0.000000</td>\n",
       "      <td>0.000000</td>\n",
       "    </tr>\n",
       "    <tr>\n",
       "      <th>1</th>\n",
       "      <td>@VirginAmerica plus you've added commercials to the experience... tacky.</td>\n",
       "      <td>@VirginAmerica</td>\n",
       "      <td>plus you've added commercials to the experience... tacky.</td>\n",
       "      <td>0.000000</td>\n",
       "      <td>0.000000</td>\n",
       "    </tr>\n",
       "    <tr>\n",
       "      <th>2</th>\n",
       "      <td>@VirginAmerica I didn't today... Must mean I need to take another trip!</td>\n",
       "      <td>@VirginAmerica</td>\n",
       "      <td>I didn't today... Must mean I need to take another trip!</td>\n",
       "      <td>-0.390625</td>\n",
       "      <td>0.687500</td>\n",
       "    </tr>\n",
       "    <tr>\n",
       "      <th>3</th>\n",
       "      <td>@VirginAmerica it's really aggressive to blast obnoxious \"entertainment\" in your guests' faces &amp;amp; they have little recourse</td>\n",
       "      <td>@VirginAmerica</td>\n",
       "      <td>it's really aggressive to blast obnoxious \"entertainment\" in your guests' faces &amp;amp; they have little recourse</td>\n",
       "      <td>0.006250</td>\n",
       "      <td>0.350000</td>\n",
       "    </tr>\n",
       "    <tr>\n",
       "      <th>4</th>\n",
       "      <td>@VirginAmerica and it's a really big bad thing about it</td>\n",
       "      <td>@VirginAmerica</td>\n",
       "      <td>and it's a really big bad thing about it</td>\n",
       "      <td>-0.350000</td>\n",
       "      <td>0.383333</td>\n",
       "    </tr>\n",
       "  </tbody>\n",
       "</table>\n",
       "</div>"
      ],
      "text/plain": [
       "                                                                                                                            Tweet  \\\n",
       "0                                                                                             @VirginAmerica What @dhepburn said.   \n",
       "1                                                        @VirginAmerica plus you've added commercials to the experience... tacky.   \n",
       "2                                                         @VirginAmerica I didn't today... Must mean I need to take another trip!   \n",
       "3  @VirginAmerica it's really aggressive to blast obnoxious \"entertainment\" in your guests' faces &amp; they have little recourse   \n",
       "4                                                                         @VirginAmerica and it's a really big bad thing about it   \n",
       "\n",
       "           handle  \\\n",
       "0  @VirginAmerica   \n",
       "1  @VirginAmerica   \n",
       "2  @VirginAmerica   \n",
       "3  @VirginAmerica   \n",
       "4  @VirginAmerica   \n",
       "\n",
       "                                                                                                         tweet_text  \\\n",
       "0                                                                                                       What  said.   \n",
       "1                                                         plus you've added commercials to the experience... tacky.   \n",
       "2                                                          I didn't today... Must mean I need to take another trip!   \n",
       "3   it's really aggressive to blast obnoxious \"entertainment\" in your guests' faces &amp; they have little recourse   \n",
       "4                                                                          and it's a really big bad thing about it   \n",
       "\n",
       "   Polarity  Subjectivity  \n",
       "0  0.000000      0.000000  \n",
       "1  0.000000      0.000000  \n",
       "2 -0.390625      0.687500  \n",
       "3  0.006250      0.350000  \n",
       "4 -0.350000      0.383333  "
      ]
     },
     "execution_count": 24,
     "metadata": {},
     "output_type": "execute_result"
    }
   ],
   "source": [
    "# adding the tweet_data dataframe to sentiment_frame data frame\n",
    "tweets_add = pd.concat([tweets_data, sentiment_frame], axis=1) # replacing the columns with numbers\n",
    "tweets_add.head()"
   ]
  },
  {
   "cell_type": "markdown",
   "metadata": {},
   "source": [
    "### **Data Modelling**"
   ]
  },
  {
   "cell_type": "code",
   "execution_count": 25,
   "metadata": {},
   "outputs": [
    {
     "data": {
      "text/html": [
       "<div>\n",
       "<style scoped>\n",
       "    .dataframe tbody tr th:only-of-type {\n",
       "        vertical-align: middle;\n",
       "    }\n",
       "\n",
       "    .dataframe tbody tr th {\n",
       "        vertical-align: top;\n",
       "    }\n",
       "\n",
       "    .dataframe thead th {\n",
       "        text-align: right;\n",
       "    }\n",
       "</style>\n",
       "<table border=\"1\" class=\"dataframe\">\n",
       "  <thead>\n",
       "    <tr style=\"text-align: right;\">\n",
       "      <th></th>\n",
       "      <th>Tweet</th>\n",
       "      <th>handle</th>\n",
       "      <th>tweet_text</th>\n",
       "      <th>Polarity</th>\n",
       "      <th>Subjectivity</th>\n",
       "    </tr>\n",
       "  </thead>\n",
       "  <tbody>\n",
       "    <tr>\n",
       "      <th>0</th>\n",
       "      <td>@VirginAmerica What @dhepburn said.</td>\n",
       "      <td>@VirginAmerica</td>\n",
       "      <td>What  said.</td>\n",
       "      <td>0.000000</td>\n",
       "      <td>0.000000</td>\n",
       "    </tr>\n",
       "    <tr>\n",
       "      <th>1</th>\n",
       "      <td>@VirginAmerica plus you've added commercials to the experience... tacky.</td>\n",
       "      <td>@VirginAmerica</td>\n",
       "      <td>plus you've added commercials to the experience... tacky.</td>\n",
       "      <td>0.000000</td>\n",
       "      <td>0.000000</td>\n",
       "    </tr>\n",
       "    <tr>\n",
       "      <th>2</th>\n",
       "      <td>@VirginAmerica I didn't today... Must mean I need to take another trip!</td>\n",
       "      <td>@VirginAmerica</td>\n",
       "      <td>I didn't today... Must mean I need to take another trip!</td>\n",
       "      <td>-0.390625</td>\n",
       "      <td>0.687500</td>\n",
       "    </tr>\n",
       "    <tr>\n",
       "      <th>3</th>\n",
       "      <td>@VirginAmerica it's really aggressive to blast obnoxious \"entertainment\" in your guests' faces &amp;amp; they have little recourse</td>\n",
       "      <td>@VirginAmerica</td>\n",
       "      <td>it's really aggressive to blast obnoxious \"entertainment\" in your guests' faces &amp;amp; they have little recourse</td>\n",
       "      <td>0.006250</td>\n",
       "      <td>0.350000</td>\n",
       "    </tr>\n",
       "    <tr>\n",
       "      <th>4</th>\n",
       "      <td>@VirginAmerica and it's a really big bad thing about it</td>\n",
       "      <td>@VirginAmerica</td>\n",
       "      <td>and it's a really big bad thing about it</td>\n",
       "      <td>-0.350000</td>\n",
       "      <td>0.383333</td>\n",
       "    </tr>\n",
       "  </tbody>\n",
       "</table>\n",
       "</div>"
      ],
      "text/plain": [
       "                                                                                                                            Tweet  \\\n",
       "0                                                                                             @VirginAmerica What @dhepburn said.   \n",
       "1                                                        @VirginAmerica plus you've added commercials to the experience... tacky.   \n",
       "2                                                         @VirginAmerica I didn't today... Must mean I need to take another trip!   \n",
       "3  @VirginAmerica it's really aggressive to blast obnoxious \"entertainment\" in your guests' faces &amp; they have little recourse   \n",
       "4                                                                         @VirginAmerica and it's a really big bad thing about it   \n",
       "\n",
       "           handle  \\\n",
       "0  @VirginAmerica   \n",
       "1  @VirginAmerica   \n",
       "2  @VirginAmerica   \n",
       "3  @VirginAmerica   \n",
       "4  @VirginAmerica   \n",
       "\n",
       "                                                                                                         tweet_text  \\\n",
       "0                                                                                                       What  said.   \n",
       "1                                                         plus you've added commercials to the experience... tacky.   \n",
       "2                                                          I didn't today... Must mean I need to take another trip!   \n",
       "3   it's really aggressive to blast obnoxious \"entertainment\" in your guests' faces &amp; they have little recourse   \n",
       "4                                                                          and it's a really big bad thing about it   \n",
       "\n",
       "   Polarity  Subjectivity  \n",
       "0  0.000000      0.000000  \n",
       "1  0.000000      0.000000  \n",
       "2 -0.390625      0.687500  \n",
       "3  0.006250      0.350000  \n",
       "4 -0.350000      0.383333  "
      ]
     },
     "execution_count": 25,
     "metadata": {},
     "output_type": "execute_result"
    }
   ],
   "source": [
    "#renaming the data set\n",
    "tweets = tweets_add\n",
    "\n",
    "tweets.head()\n"
   ]
  },
  {
   "cell_type": "code",
   "execution_count": 26,
   "metadata": {},
   "outputs": [],
   "source": [
    "#exporting the updated file\n",
    "tweets.to_csv(\"tested_tweets.csv\")"
   ]
  },
  {
   "cell_type": "code",
   "execution_count": 27,
   "metadata": {},
   "outputs": [],
   "source": [
    "#Rem: polarity was in capital letter P\n",
    "positive_tweets = tweets[tweets.Polarity > 0.5]\n",
    "negative_tweets=tweets[tweets.Polarity <= -0.5]\n",
    "neutral_tweets=tweets[(tweets.Polarity > -0.5) & (tweets.Polarity<0.5)]"
   ]
  },
  {
   "cell_type": "markdown",
   "metadata": {},
   "source": [
    "### filtering out all the  tweets seperately."
   ]
  },
  {
   "cell_type": "code",
   "execution_count": 28,
   "metadata": {},
   "outputs": [
    {
     "data": {
      "text/html": [
       "<div>\n",
       "<style scoped>\n",
       "    .dataframe tbody tr th:only-of-type {\n",
       "        vertical-align: middle;\n",
       "    }\n",
       "\n",
       "    .dataframe tbody tr th {\n",
       "        vertical-align: top;\n",
       "    }\n",
       "\n",
       "    .dataframe thead th {\n",
       "        text-align: right;\n",
       "    }\n",
       "</style>\n",
       "<table border=\"1\" class=\"dataframe\">\n",
       "  <thead>\n",
       "    <tr style=\"text-align: right;\">\n",
       "      <th></th>\n",
       "      <th>Tweet</th>\n",
       "      <th>handle</th>\n",
       "      <th>tweet_text</th>\n",
       "      <th>Polarity</th>\n",
       "      <th>Subjectivity</th>\n",
       "    </tr>\n",
       "  </thead>\n",
       "  <tbody>\n",
       "    <tr>\n",
       "      <th>33</th>\n",
       "      <td>@VirginAmerica awaiting my return phone call, just would prefer to use your online self-service option :(</td>\n",
       "      <td>@VirginAmerica</td>\n",
       "      <td>awaiting my return phone call, just would prefer to use your online self-service option :(</td>\n",
       "      <td>-0.750000</td>\n",
       "      <td>1.000000</td>\n",
       "    </tr>\n",
       "    <tr>\n",
       "      <th>84</th>\n",
       "      <td>@VirginAmerica it was a disappointing experience which will be shared with every business traveler I meet. #neverflyvirgin</td>\n",
       "      <td>@VirginAmerica</td>\n",
       "      <td>it was a disappointing experience which will be shared with every business traveler I meet. #neverflyvirgin</td>\n",
       "      <td>-0.600000</td>\n",
       "      <td>0.700000</td>\n",
       "    </tr>\n",
       "    <tr>\n",
       "      <th>87</th>\n",
       "      <td>@VirginAmerica Random Q: what's the distribution of elevate avatars? I bet that kitty has a disproportionate share http://t.co/APtZpuROp4</td>\n",
       "      <td>@VirginAmerica</td>\n",
       "      <td>Random Q: what's the distribution of elevate avatars? I bet that kitty has a disproportionate share http://t.co/APtZpuROp4</td>\n",
       "      <td>-0.500000</td>\n",
       "      <td>0.500000</td>\n",
       "    </tr>\n",
       "    <tr>\n",
       "      <th>97</th>\n",
       "      <td>@VirginAmerica - Let 2 scanned in passengers leave the plane than told someone to remove their bag from 1st class bin? #uncomfortable</td>\n",
       "      <td>@VirginAmerica</td>\n",
       "      <td>- Let 2 scanned in passengers leave the plane than told someone to remove their bag from 1st class bin? #uncomfortable</td>\n",
       "      <td>-0.500000</td>\n",
       "      <td>1.000000</td>\n",
       "    </tr>\n",
       "    <tr>\n",
       "      <th>99</th>\n",
       "      <td>@VirginAmerica is anyone doing anything there today?  Website is useless and no one is answering the phone.</td>\n",
       "      <td>@VirginAmerica</td>\n",
       "      <td>is anyone doing anything there today?  Website is useless and no one is answering the phone.</td>\n",
       "      <td>-0.500000</td>\n",
       "      <td>0.200000</td>\n",
       "    </tr>\n",
       "    <tr>\n",
       "      <th>...</th>\n",
       "      <td>...</td>\n",
       "      <td>...</td>\n",
       "      <td>...</td>\n",
       "      <td>...</td>\n",
       "      <td>...</td>\n",
       "    </tr>\n",
       "    <tr>\n",
       "      <th>14483</th>\n",
       "      <td>@AmericanAir The bad weather wasn't a surprise! You should have double/triple staff on hand to handle calls. Way to treat your customers.</td>\n",
       "      <td>@AmericanAir</td>\n",
       "      <td>The bad weather wasn't a surprise! You should have double/triple staff on hand to handle calls. Way to treat your customers.</td>\n",
       "      <td>-0.875000</td>\n",
       "      <td>0.666667</td>\n",
       "    </tr>\n",
       "    <tr>\n",
       "      <th>14507</th>\n",
       "      <td>@AmericanAir i dont believe it, it has been impossible for your agents to get an update from the delivery company since yesterday at 11 am</td>\n",
       "      <td>@AmericanAir</td>\n",
       "      <td>i dont believe it, it has been impossible for your agents to get an update from the delivery company since yesterday at 11 am</td>\n",
       "      <td>-0.666667</td>\n",
       "      <td>1.000000</td>\n",
       "    </tr>\n",
       "    <tr>\n",
       "      <th>14535</th>\n",
       "      <td>@AmericanAir Flight Cancelled Flighted and rebooked but agent made a mistake and booked wrong date! Been trying to get through via phone for hours!!</td>\n",
       "      <td>@AmericanAir</td>\n",
       "      <td>Flight Cancelled Flighted and rebooked but agent made a mistake and booked wrong date! Been trying to get through via phone for hours!!</td>\n",
       "      <td>-0.976562</td>\n",
       "      <td>0.900000</td>\n",
       "    </tr>\n",
       "    <tr>\n",
       "      <th>14568</th>\n",
       "      <td>@AmericanAir i was spoken 2 like I'm an idiot and that is not OK!! I don't need to deal w/ that esp after the travel experience I've had</td>\n",
       "      <td>@AmericanAir</td>\n",
       "      <td>i was spoken 2 like I'm an idiot and that is not OK!! I don't need to deal w/ that esp after the travel experience I've had</td>\n",
       "      <td>-0.595313</td>\n",
       "      <td>0.650000</td>\n",
       "    </tr>\n",
       "    <tr>\n",
       "      <th>14610</th>\n",
       "      <td>@AmericanAir I understand the weather issue but you can't expect passengers to wait 24 hours inside airports for whatever reason. Outrageous</td>\n",
       "      <td>@AmericanAir</td>\n",
       "      <td>I understand the weather issue but you can't expect passengers to wait 24 hours inside airports for whatever reason. Outrageous</td>\n",
       "      <td>-1.000000</td>\n",
       "      <td>1.000000</td>\n",
       "    </tr>\n",
       "  </tbody>\n",
       "</table>\n",
       "<p>828 rows × 5 columns</p>\n",
       "</div>"
      ],
      "text/plain": [
       "                                                                                                                                                      Tweet  \\\n",
       "33                                                @VirginAmerica awaiting my return phone call, just would prefer to use your online self-service option :(   \n",
       "84                               @VirginAmerica it was a disappointing experience which will be shared with every business traveler I meet. #neverflyvirgin   \n",
       "87                @VirginAmerica Random Q: what's the distribution of elevate avatars? I bet that kitty has a disproportionate share http://t.co/APtZpuROp4   \n",
       "97                    @VirginAmerica - Let 2 scanned in passengers leave the plane than told someone to remove their bag from 1st class bin? #uncomfortable   \n",
       "99                                              @VirginAmerica is anyone doing anything there today?  Website is useless and no one is answering the phone.   \n",
       "...                                                                                                                                                     ...   \n",
       "14483             @AmericanAir The bad weather wasn't a surprise! You should have double/triple staff on hand to handle calls. Way to treat your customers.   \n",
       "14507            @AmericanAir i dont believe it, it has been impossible for your agents to get an update from the delivery company since yesterday at 11 am   \n",
       "14535  @AmericanAir Flight Cancelled Flighted and rebooked but agent made a mistake and booked wrong date! Been trying to get through via phone for hours!!   \n",
       "14568              @AmericanAir i was spoken 2 like I'm an idiot and that is not OK!! I don't need to deal w/ that esp after the travel experience I've had   \n",
       "14610          @AmericanAir I understand the weather issue but you can't expect passengers to wait 24 hours inside airports for whatever reason. Outrageous   \n",
       "\n",
       "               handle  \\\n",
       "33     @VirginAmerica   \n",
       "84     @VirginAmerica   \n",
       "87     @VirginAmerica   \n",
       "97     @VirginAmerica   \n",
       "99     @VirginAmerica   \n",
       "...               ...   \n",
       "14483    @AmericanAir   \n",
       "14507    @AmericanAir   \n",
       "14535    @AmericanAir   \n",
       "14568    @AmericanAir   \n",
       "14610    @AmericanAir   \n",
       "\n",
       "                                                                                                                                     tweet_text  \\\n",
       "33                                                   awaiting my return phone call, just would prefer to use your online self-service option :(   \n",
       "84                                  it was a disappointing experience which will be shared with every business traveler I meet. #neverflyvirgin   \n",
       "87                   Random Q: what's the distribution of elevate avatars? I bet that kitty has a disproportionate share http://t.co/APtZpuROp4   \n",
       "97                       - Let 2 scanned in passengers leave the plane than told someone to remove their bag from 1st class bin? #uncomfortable   \n",
       "99                                                 is anyone doing anything there today?  Website is useless and no one is answering the phone.   \n",
       "...                                                                                                                                         ...   \n",
       "14483              The bad weather wasn't a surprise! You should have double/triple staff on hand to handle calls. Way to treat your customers.   \n",
       "14507             i dont believe it, it has been impossible for your agents to get an update from the delivery company since yesterday at 11 am   \n",
       "14535   Flight Cancelled Flighted and rebooked but agent made a mistake and booked wrong date! Been trying to get through via phone for hours!!   \n",
       "14568               i was spoken 2 like I'm an idiot and that is not OK!! I don't need to deal w/ that esp after the travel experience I've had   \n",
       "14610           I understand the weather issue but you can't expect passengers to wait 24 hours inside airports for whatever reason. Outrageous   \n",
       "\n",
       "       Polarity  Subjectivity  \n",
       "33    -0.750000      1.000000  \n",
       "84    -0.600000      0.700000  \n",
       "87    -0.500000      0.500000  \n",
       "97    -0.500000      1.000000  \n",
       "99    -0.500000      0.200000  \n",
       "...         ...           ...  \n",
       "14483 -0.875000      0.666667  \n",
       "14507 -0.666667      1.000000  \n",
       "14535 -0.976562      0.900000  \n",
       "14568 -0.595313      0.650000  \n",
       "14610 -1.000000      1.000000  \n",
       "\n",
       "[828 rows x 5 columns]"
      ]
     },
     "execution_count": 28,
     "metadata": {},
     "output_type": "execute_result"
    }
   ],
   "source": [
    "\n",
    "negative_tweets"
   ]
  },
  {
   "cell_type": "code",
   "execution_count": 29,
   "metadata": {},
   "outputs": [
    {
     "data": {
      "text/html": [
       "<div>\n",
       "<style scoped>\n",
       "    .dataframe tbody tr th:only-of-type {\n",
       "        vertical-align: middle;\n",
       "    }\n",
       "\n",
       "    .dataframe tbody tr th {\n",
       "        vertical-align: top;\n",
       "    }\n",
       "\n",
       "    .dataframe thead th {\n",
       "        text-align: right;\n",
       "    }\n",
       "</style>\n",
       "<table border=\"1\" class=\"dataframe\">\n",
       "  <thead>\n",
       "    <tr style=\"text-align: right;\">\n",
       "      <th></th>\n",
       "      <th>Tweet</th>\n",
       "      <th>handle</th>\n",
       "      <th>tweet_text</th>\n",
       "      <th>Polarity</th>\n",
       "      <th>Subjectivity</th>\n",
       "    </tr>\n",
       "  </thead>\n",
       "  <tbody>\n",
       "    <tr>\n",
       "      <th>8</th>\n",
       "      <td>@virginamerica Well, I didn't…but NOW I DO! :-D</td>\n",
       "      <td>@virginamerica</td>\n",
       "      <td>Well, I didn't…but NOW I DO! :-D</td>\n",
       "      <td>1.000000</td>\n",
       "      <td>1.000000</td>\n",
       "    </tr>\n",
       "    <tr>\n",
       "      <th>19</th>\n",
       "      <td>@VirginAmerica you know what would be amazingly awesome? BOS-FLL PLEASE!!!!!!! I want to fly with only you.</td>\n",
       "      <td>@VirginAmerica</td>\n",
       "      <td>you know what would be amazingly awesome? BOS-FLL PLEASE!!!!!!! I want to fly with only you.</td>\n",
       "      <td>0.600000</td>\n",
       "      <td>0.966667</td>\n",
       "    </tr>\n",
       "    <tr>\n",
       "      <th>22</th>\n",
       "      <td>@VirginAmerica I love the hipster innovation. You are a feel good brand.</td>\n",
       "      <td>@VirginAmerica</td>\n",
       "      <td>I love the hipster innovation. You are a feel good brand.</td>\n",
       "      <td>0.600000</td>\n",
       "      <td>0.600000</td>\n",
       "    </tr>\n",
       "    <tr>\n",
       "      <th>34</th>\n",
       "      <td>@VirginAmerica this is great news!  America could start flights to Hawaii by end of year http://t.co/r8p2Zy3fe4 via @Pacificbiznews</td>\n",
       "      <td>@VirginAmerica</td>\n",
       "      <td>this is great news!  America could start flights to Hawaii by end of year http://t.co/r8p2Zy3fe4 via</td>\n",
       "      <td>1.000000</td>\n",
       "      <td>0.750000</td>\n",
       "    </tr>\n",
       "    <tr>\n",
       "      <th>35</th>\n",
       "      <td>Nice RT @VirginAmerica: Vibe with the moodlight from takeoff to touchdown. #MoodlitMonday #ScienceBehindTheExperience http://t.co/Y7O0uNxTQP</td>\n",
       "      <td>NaN</td>\n",
       "      <td>Nice RT  Vibe with the moodlight from takeoff to touchdown. #MoodlitMonday #ScienceBehindTheExperience http://t.co/Y7O0uNxTQP</td>\n",
       "      <td>0.600000</td>\n",
       "      <td>1.000000</td>\n",
       "    </tr>\n",
       "    <tr>\n",
       "      <th>...</th>\n",
       "      <td>...</td>\n",
       "      <td>...</td>\n",
       "      <td>...</td>\n",
       "      <td>...</td>\n",
       "      <td>...</td>\n",
       "    </tr>\n",
       "    <tr>\n",
       "      <th>14566</th>\n",
       "      <td>@AmericanAir i was also told by agents my issues \"aren't their prob\" K fine. I get it. But have some compassion 4 others dealing w/this!!!</td>\n",
       "      <td>@AmericanAir</td>\n",
       "      <td>i was also told by agents my issues \"aren't their prob\" K fine. I get it. But have some compassion 4 others dealing w/this!!!</td>\n",
       "      <td>0.813802</td>\n",
       "      <td>0.500000</td>\n",
       "    </tr>\n",
       "    <tr>\n",
       "      <th>14577</th>\n",
       "      <td>@AmericanAir I have never on all my trips on any airline ever nat'l or int'l ever experienced anything like this!</td>\n",
       "      <td>@AmericanAir</td>\n",
       "      <td>I have never on all my trips on any airline ever nat'l or int'l ever experienced anything like this!</td>\n",
       "      <td>1.000000</td>\n",
       "      <td>0.900000</td>\n",
       "    </tr>\n",
       "    <tr>\n",
       "      <th>14587</th>\n",
       "      <td>@AmericanAir I’ll play it by ear. I know that you are doing your best. Buy some chewey oatmeal cookies for your customer care folks.</td>\n",
       "      <td>@AmericanAir</td>\n",
       "      <td>I’ll play it by ear. I know that you are doing your best. Buy some chewey oatmeal cookies for your customer care folks.</td>\n",
       "      <td>1.000000</td>\n",
       "      <td>0.300000</td>\n",
       "    </tr>\n",
       "    <tr>\n",
       "      <th>14625</th>\n",
       "      <td>@AmericanAir Flight 236 was great. Fantastic cabin crew. A+ landing. #thankyou #JFK http://t.co/dRW08djHAI</td>\n",
       "      <td>@AmericanAir</td>\n",
       "      <td>Flight 236 was great. Fantastic cabin crew. A+ landing. #thankyou #JFK http://t.co/dRW08djHAI</td>\n",
       "      <td>0.600000</td>\n",
       "      <td>0.825000</td>\n",
       "    </tr>\n",
       "    <tr>\n",
       "      <th>14632</th>\n",
       "      <td>“@AmericanAir: @TilleyMonsta George, that doesn't look good. Please follow this link to start the refund process: http://t.co/4gr39s91Dl”😂</td>\n",
       "      <td>NaN</td>\n",
       "      <td>“  George, that doesn't look good. Please follow this link to start the refund process: http://t.co/4gr39s91Dl”😂</td>\n",
       "      <td>0.700000</td>\n",
       "      <td>0.600000</td>\n",
       "    </tr>\n",
       "  </tbody>\n",
       "</table>\n",
       "<p>1047 rows × 5 columns</p>\n",
       "</div>"
      ],
      "text/plain": [
       "                                                                                                                                              Tweet  \\\n",
       "8                                                                                                   @virginamerica Well, I didn't…but NOW I DO! :-D   \n",
       "19                                      @VirginAmerica you know what would be amazingly awesome? BOS-FLL PLEASE!!!!!!! I want to fly with only you.   \n",
       "22                                                                         @VirginAmerica I love the hipster innovation. You are a feel good brand.   \n",
       "34              @VirginAmerica this is great news!  America could start flights to Hawaii by end of year http://t.co/r8p2Zy3fe4 via @Pacificbiznews   \n",
       "35     Nice RT @VirginAmerica: Vibe with the moodlight from takeoff to touchdown. #MoodlitMonday #ScienceBehindTheExperience http://t.co/Y7O0uNxTQP   \n",
       "...                                                                                                                                             ...   \n",
       "14566    @AmericanAir i was also told by agents my issues \"aren't their prob\" K fine. I get it. But have some compassion 4 others dealing w/this!!!   \n",
       "14577                             @AmericanAir I have never on all my trips on any airline ever nat'l or int'l ever experienced anything like this!   \n",
       "14587          @AmericanAir I’ll play it by ear. I know that you are doing your best. Buy some chewey oatmeal cookies for your customer care folks.   \n",
       "14625                                    @AmericanAir Flight 236 was great. Fantastic cabin crew. A+ landing. #thankyou #JFK http://t.co/dRW08djHAI   \n",
       "14632    “@AmericanAir: @TilleyMonsta George, that doesn't look good. Please follow this link to start the refund process: http://t.co/4gr39s91Dl”😂   \n",
       "\n",
       "               handle  \\\n",
       "8      @virginamerica   \n",
       "19     @VirginAmerica   \n",
       "22     @VirginAmerica   \n",
       "34     @VirginAmerica   \n",
       "35                NaN   \n",
       "...               ...   \n",
       "14566    @AmericanAir   \n",
       "14577    @AmericanAir   \n",
       "14587    @AmericanAir   \n",
       "14625    @AmericanAir   \n",
       "14632             NaN   \n",
       "\n",
       "                                                                                                                           tweet_text  \\\n",
       "8                                                                                                    Well, I didn't…but NOW I DO! :-D   \n",
       "19                                       you know what would be amazingly awesome? BOS-FLL PLEASE!!!!!!! I want to fly with only you.   \n",
       "22                                                                          I love the hipster innovation. You are a feel good brand.   \n",
       "34                              this is great news!  America could start flights to Hawaii by end of year http://t.co/r8p2Zy3fe4 via    \n",
       "35      Nice RT  Vibe with the moodlight from takeoff to touchdown. #MoodlitMonday #ScienceBehindTheExperience http://t.co/Y7O0uNxTQP   \n",
       "...                                                                                                                               ...   \n",
       "14566   i was also told by agents my issues \"aren't their prob\" K fine. I get it. But have some compassion 4 others dealing w/this!!!   \n",
       "14577                            I have never on all my trips on any airline ever nat'l or int'l ever experienced anything like this!   \n",
       "14587         I’ll play it by ear. I know that you are doing your best. Buy some chewey oatmeal cookies for your customer care folks.   \n",
       "14625                                   Flight 236 was great. Fantastic cabin crew. A+ landing. #thankyou #JFK http://t.co/dRW08djHAI   \n",
       "14632                “  George, that doesn't look good. Please follow this link to start the refund process: http://t.co/4gr39s91Dl”😂   \n",
       "\n",
       "       Polarity  Subjectivity  \n",
       "8      1.000000      1.000000  \n",
       "19     0.600000      0.966667  \n",
       "22     0.600000      0.600000  \n",
       "34     1.000000      0.750000  \n",
       "35     0.600000      1.000000  \n",
       "...         ...           ...  \n",
       "14566  0.813802      0.500000  \n",
       "14577  1.000000      0.900000  \n",
       "14587  1.000000      0.300000  \n",
       "14625  0.600000      0.825000  \n",
       "14632  0.700000      0.600000  \n",
       "\n",
       "[1047 rows x 5 columns]"
      ]
     },
     "execution_count": 29,
     "metadata": {},
     "output_type": "execute_result"
    }
   ],
   "source": [
    "positive_tweets"
   ]
  },
  {
   "cell_type": "code",
   "execution_count": 30,
   "metadata": {},
   "outputs": [
    {
     "data": {
      "text/html": [
       "<div>\n",
       "<style scoped>\n",
       "    .dataframe tbody tr th:only-of-type {\n",
       "        vertical-align: middle;\n",
       "    }\n",
       "\n",
       "    .dataframe tbody tr th {\n",
       "        vertical-align: top;\n",
       "    }\n",
       "\n",
       "    .dataframe thead th {\n",
       "        text-align: right;\n",
       "    }\n",
       "</style>\n",
       "<table border=\"1\" class=\"dataframe\">\n",
       "  <thead>\n",
       "    <tr style=\"text-align: right;\">\n",
       "      <th></th>\n",
       "      <th>Tweet</th>\n",
       "      <th>handle</th>\n",
       "      <th>tweet_text</th>\n",
       "      <th>Polarity</th>\n",
       "      <th>Subjectivity</th>\n",
       "    </tr>\n",
       "  </thead>\n",
       "  <tbody>\n",
       "    <tr>\n",
       "      <th>0</th>\n",
       "      <td>@VirginAmerica What @dhepburn said.</td>\n",
       "      <td>@VirginAmerica</td>\n",
       "      <td>What  said.</td>\n",
       "      <td>0.000000</td>\n",
       "      <td>0.000000</td>\n",
       "    </tr>\n",
       "    <tr>\n",
       "      <th>1</th>\n",
       "      <td>@VirginAmerica plus you've added commercials to the experience... tacky.</td>\n",
       "      <td>@VirginAmerica</td>\n",
       "      <td>plus you've added commercials to the experience... tacky.</td>\n",
       "      <td>0.000000</td>\n",
       "      <td>0.000000</td>\n",
       "    </tr>\n",
       "    <tr>\n",
       "      <th>2</th>\n",
       "      <td>@VirginAmerica I didn't today... Must mean I need to take another trip!</td>\n",
       "      <td>@VirginAmerica</td>\n",
       "      <td>I didn't today... Must mean I need to take another trip!</td>\n",
       "      <td>-0.390625</td>\n",
       "      <td>0.687500</td>\n",
       "    </tr>\n",
       "    <tr>\n",
       "      <th>3</th>\n",
       "      <td>@VirginAmerica it's really aggressive to blast obnoxious \"entertainment\" in your guests' faces &amp;amp; they have little recourse</td>\n",
       "      <td>@VirginAmerica</td>\n",
       "      <td>it's really aggressive to blast obnoxious \"entertainment\" in your guests' faces &amp;amp; they have little recourse</td>\n",
       "      <td>0.006250</td>\n",
       "      <td>0.350000</td>\n",
       "    </tr>\n",
       "    <tr>\n",
       "      <th>4</th>\n",
       "      <td>@VirginAmerica and it's a really big bad thing about it</td>\n",
       "      <td>@VirginAmerica</td>\n",
       "      <td>and it's a really big bad thing about it</td>\n",
       "      <td>-0.350000</td>\n",
       "      <td>0.383333</td>\n",
       "    </tr>\n",
       "    <tr>\n",
       "      <th>...</th>\n",
       "      <td>...</td>\n",
       "      <td>...</td>\n",
       "      <td>...</td>\n",
       "      <td>...</td>\n",
       "      <td>...</td>\n",
       "    </tr>\n",
       "    <tr>\n",
       "      <th>14635</th>\n",
       "      <td>@AmericanAir thank you we got on a different flight to Chicago.</td>\n",
       "      <td>@AmericanAir</td>\n",
       "      <td>thank you we got on a different flight to Chicago.</td>\n",
       "      <td>0.000000</td>\n",
       "      <td>0.600000</td>\n",
       "    </tr>\n",
       "    <tr>\n",
       "      <th>14636</th>\n",
       "      <td>@AmericanAir leaving over 20 minutes Late Flight. No warnings or communication until we were 15 minutes Late Flight. That's called shitty customer svc</td>\n",
       "      <td>@AmericanAir</td>\n",
       "      <td>leaving over 20 minutes Late Flight. No warnings or communication until we were 15 minutes Late Flight. That's called shitty customer svc</td>\n",
       "      <td>-0.300000</td>\n",
       "      <td>0.600000</td>\n",
       "    </tr>\n",
       "    <tr>\n",
       "      <th>14637</th>\n",
       "      <td>@AmericanAir Please bring American Airlines to #BlackBerry10</td>\n",
       "      <td>@AmericanAir</td>\n",
       "      <td>Please bring American Airlines to #BlackBerry10</td>\n",
       "      <td>0.000000</td>\n",
       "      <td>0.000000</td>\n",
       "    </tr>\n",
       "    <tr>\n",
       "      <th>14638</th>\n",
       "      <td>@AmericanAir you have my money, you change my flight, and don't answer your phones! Any other suggestions so I can make my commitment??</td>\n",
       "      <td>@AmericanAir</td>\n",
       "      <td>you have my money, you change my flight, and don't answer your phones! Any other suggestions so I can make my commitment??</td>\n",
       "      <td>-0.125000</td>\n",
       "      <td>0.375000</td>\n",
       "    </tr>\n",
       "    <tr>\n",
       "      <th>14639</th>\n",
       "      <td>@AmericanAir we have 8 ppl so we need 2 know how many seats are on the next flight. Plz put us on standby for 4 people on the next flight?</td>\n",
       "      <td>@AmericanAir</td>\n",
       "      <td>we have 8 ppl so we need 2 know how many seats are on the next flight. Plz put us on standby for 4 people on the next flight?</td>\n",
       "      <td>0.166667</td>\n",
       "      <td>0.166667</td>\n",
       "    </tr>\n",
       "  </tbody>\n",
       "</table>\n",
       "<p>12315 rows × 5 columns</p>\n",
       "</div>"
      ],
      "text/plain": [
       "                                                                                                                                                        Tweet  \\\n",
       "0                                                                                                                         @VirginAmerica What @dhepburn said.   \n",
       "1                                                                                    @VirginAmerica plus you've added commercials to the experience... tacky.   \n",
       "2                                                                                     @VirginAmerica I didn't today... Must mean I need to take another trip!   \n",
       "3                              @VirginAmerica it's really aggressive to blast obnoxious \"entertainment\" in your guests' faces &amp; they have little recourse   \n",
       "4                                                                                                     @VirginAmerica and it's a really big bad thing about it   \n",
       "...                                                                                                                                                       ...   \n",
       "14635                                                                                         @AmericanAir thank you we got on a different flight to Chicago.   \n",
       "14636  @AmericanAir leaving over 20 minutes Late Flight. No warnings or communication until we were 15 minutes Late Flight. That's called shitty customer svc   \n",
       "14637                                                                                            @AmericanAir Please bring American Airlines to #BlackBerry10   \n",
       "14638                 @AmericanAir you have my money, you change my flight, and don't answer your phones! Any other suggestions so I can make my commitment??   \n",
       "14639              @AmericanAir we have 8 ppl so we need 2 know how many seats are on the next flight. Plz put us on standby for 4 people on the next flight?   \n",
       "\n",
       "               handle  \\\n",
       "0      @VirginAmerica   \n",
       "1      @VirginAmerica   \n",
       "2      @VirginAmerica   \n",
       "3      @VirginAmerica   \n",
       "4      @VirginAmerica   \n",
       "...               ...   \n",
       "14635    @AmericanAir   \n",
       "14636    @AmericanAir   \n",
       "14637    @AmericanAir   \n",
       "14638    @AmericanAir   \n",
       "14639    @AmericanAir   \n",
       "\n",
       "                                                                                                                                       tweet_text  \\\n",
       "0                                                                                                                                     What  said.   \n",
       "1                                                                                       plus you've added commercials to the experience... tacky.   \n",
       "2                                                                                        I didn't today... Must mean I need to take another trip!   \n",
       "3                                 it's really aggressive to blast obnoxious \"entertainment\" in your guests' faces &amp; they have little recourse   \n",
       "4                                                                                                        and it's a really big bad thing about it   \n",
       "...                                                                                                                                           ...   \n",
       "14635                                                                                          thank you we got on a different flight to Chicago.   \n",
       "14636   leaving over 20 minutes Late Flight. No warnings or communication until we were 15 minutes Late Flight. That's called shitty customer svc   \n",
       "14637                                                                                             Please bring American Airlines to #BlackBerry10   \n",
       "14638                  you have my money, you change my flight, and don't answer your phones! Any other suggestions so I can make my commitment??   \n",
       "14639               we have 8 ppl so we need 2 know how many seats are on the next flight. Plz put us on standby for 4 people on the next flight?   \n",
       "\n",
       "       Polarity  Subjectivity  \n",
       "0      0.000000      0.000000  \n",
       "1      0.000000      0.000000  \n",
       "2     -0.390625      0.687500  \n",
       "3      0.006250      0.350000  \n",
       "4     -0.350000      0.383333  \n",
       "...         ...           ...  \n",
       "14635  0.000000      0.600000  \n",
       "14636 -0.300000      0.600000  \n",
       "14637  0.000000      0.000000  \n",
       "14638 -0.125000      0.375000  \n",
       "14639  0.166667      0.166667  \n",
       "\n",
       "[12315 rows x 5 columns]"
      ]
     },
     "execution_count": 30,
     "metadata": {},
     "output_type": "execute_result"
    }
   ],
   "source": [
    "neutral_tweets"
   ]
  },
  {
   "cell_type": "code",
   "execution_count": 31,
   "metadata": {},
   "outputs": [],
   "source": [
    "#exporting the negative, postive and neutral tweets\n",
    "negative_tweets.to_csv(\"negative_tweets.csv\")\n",
    "positive_tweets.to_csv(\"positive_tweets.csv\")\n",
    "neutral_tweets.to_csv(\"neutral_tweets.csv\")"
   ]
  },
  {
   "cell_type": "markdown",
   "metadata": {},
   "source": [
    "summary:\n",
    "\n",
    "from the data set, it was observed that the positive tweet has the highest with the total of 1047 rows,\n",
    "negative tweet has 828 rows while the neutral tweet  has 12315 rows.\n",
    "this indicates that in the US tweets, people with positive tweets are more than the negative. which means people who are sensitive to the use of words are more than the negative. "
   ]
  },
  {
   "cell_type": "markdown",
   "metadata": {},
   "source": [
    "# understanding data for sentiment analysis"
   ]
  },
  {
   "cell_type": "markdown",
   "metadata": {},
   "source": [
    "#### loading the data set for sentiment analysis and importing the necessasry libraries"
   ]
  },
  {
   "cell_type": "code",
   "execution_count": 32,
   "metadata": {},
   "outputs": [],
   "source": [
    "import pandas as pd\n"
   ]
  },
  {
   "cell_type": "code",
   "execution_count": 33,
   "metadata": {},
   "outputs": [],
   "source": [
    "IMDB_DATA_FILE = \"imdb_labelled.txt\"\n",
    "YELP_DATA_FILE =\"yelp_labelled.txt\"\n"
   ]
  },
  {
   "cell_type": "code",
   "execution_count": 35,
   "metadata": {},
   "outputs": [],
   "source": [
    "#download from https://www.kaggle.com/datasets/haithemhermessi/sentiment-labelled-sentences-data-set\n",
    "IMDB_DATA_FILE = 'imdb_labelled.txt'\n",
    "YELP_DATA_FILE = 'yelp_labelled.txt'\n",
    "AMAZON_DATA_FILE = 'amazon_cells_labelled.txt'\n",
    "COLUMN_NAMES = ['Review', 'Sentiment']"
   ]
  }
 ],
 "metadata": {
  "kernelspec": {
   "display_name": "Python 3",
   "language": "python",
   "name": "python3"
  },
  "language_info": {
   "codemirror_mode": {
    "name": "ipython",
    "version": 3
   },
   "file_extension": ".py",
   "mimetype": "text/x-python",
   "name": "python",
   "nbconvert_exporter": "python",
   "pygments_lexer": "ipython3",
   "version": "3.7.6"
  }
 },
 "nbformat": 4,
 "nbformat_minor": 4
}
